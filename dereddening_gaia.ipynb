{
 "cells": [
  {
   "cell_type": "code",
   "execution_count": null,
   "metadata": {},
   "outputs": [],
   "source": [
    "%matplotlib inline\n",
    "\n",
    "import os\n",
    "import healpy as hp\n",
    "import numpy as np\n",
    "import pandas as pd\n",
    "import matplotlib\n",
    "import matplotlib.pyplot as plt\n",
    "import pyspark\n",
    "import pyspark.sql.functions as sparkfunc\n",
    "import astropy.io.fits\n",
    "\n",
    "matplotlib.rcParams['figure.dpi'] = 120\n",
    "\n",
    "from dustmaps.sfd import SFDQuery"
   ]
  },
  {
   "cell_type": "code",
   "execution_count": null,
   "metadata": {},
   "outputs": [],
   "source": [
    "from pyspark.sql import SparkSession\n",
    "spark = SparkSession.builder.config('spark.master', \"local[8]\") \\\n",
    "                            .config('spark.memory.offHeap.enabled', 'true') \\\n",
    "                            .config('spark.memory.offHeap.size', '16G') \\\n",
    "                            .config('spark.driver.memory', '16G') \\\n",
    "                            .config(\"spark.sql.execution.arrow.enabled\", \"true\").getOrCreate()"
   ]
  },
  {
   "cell_type": "code",
   "execution_count": null,
   "metadata": {},
   "outputs": [],
   "source": [
    "gaia_ = spark.read.load(\"/epyc/data/gaia_dr2_1am_dup/\")\n",
    "gaia = gaia_.drop(\"hpix12\").withColumn(\"hpix12\",\n",
    "                        sparkfunc.floor(gaia_['source_id']/34359738368))"
   ]
  },
  {
   "cell_type": "code",
   "execution_count": null,
   "metadata": {},
   "outputs": [],
   "source": [
    "spark.conf.set(\"spark.sql.execution.arrow.enabled\", \"true\")"
   ]
  },
  {
   "cell_type": "code",
   "execution_count": null,
   "metadata": {},
   "outputs": [],
   "source": [
    "%%time\n",
    "\n",
    "sfd_order = 9\n",
    "sfd = SFDQuery()\n",
    "npix = hp.nside2npix(hp.order2nside(sfd_order))\n",
    "\n",
    "angle_theta, angle_phi = hp.pix2ang(hp.order2nside(sfd_order), np.arange(npix))\n",
    "\n",
    "reddening = sfd.query_equ(np.rad2deg(angle_phi), np.rad2deg(angle_theta) - 90.0 )\n",
    "\n",
    "EBV_map_hpix12 = hp.ud_grade(reddening, hp.order2nside(12), order_in='NEST')\n",
    "pandas_df = pd.DataFrame({\"hpix12\": np.arange(len(EBV_map_hpix12)),\n",
    "                                             \"EBV\": EBV_map_hpix12})\n",
    "\n",
    "reddening_df = spark.createDataFrame(pandas_df)"
   ]
  },
  {
   "cell_type": "code",
   "execution_count": null,
   "metadata": {},
   "outputs": [],
   "source": [
    "%%time\n",
    "gaia_w_EBV = gaia.join(reddening_df, on=\"hpix12\")"
   ]
  },
  {
   "cell_type": "code",
   "execution_count": null,
   "metadata": {},
   "outputs": [],
   "source": [
    "%%time\n",
    "gaia_g0 = gaia_w_EBV.withColumn(\"phot_g0\", gaia_w_EBV['phot_g_mean_mag'] - 3.1*gaia_w_EBV['EBV']).\\\n",
    "                      withColumn(\"bp_rp_0\", gaia_w_EBV['bp_rp'] - 1.2919*gaia_w_EBV['EBV'])\n",
    "\n",
    "gaia_g0.cache()\n",
    "gaia_g0.count()"
   ]
  }
 ],
 "metadata": {
  "kernelspec": {
   "display_name": "Python 3",
   "language": "python",
   "name": "python3"
  },
  "language_info": {
   "codemirror_mode": {
    "name": "ipython",
    "version": 3
   },
   "file_extension": ".py",
   "mimetype": "text/x-python",
   "name": "python",
   "nbconvert_exporter": "python",
   "pygments_lexer": "ipython3",
   "version": "3.6.4"
  }
 },
 "nbformat": 4,
 "nbformat_minor": 2
}
