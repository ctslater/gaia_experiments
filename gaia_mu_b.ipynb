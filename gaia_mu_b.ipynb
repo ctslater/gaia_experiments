{
 "cells": [
  {
   "cell_type": "code",
   "execution_count": 1,
   "metadata": {},
   "outputs": [],
   "source": [
    "%matplotlib inline\n",
    "\n",
    "import os\n",
    "import healpy as hp\n",
    "import numpy as np\n",
    "import pandas as pd\n",
    "import matplotlib\n",
    "import matplotlib.pyplot as plt\n",
    "import pyspark\n",
    "import pyspark.sql.functions as sparkfunc\n",
    "\n",
    "matplotlib.rcParams['figure.dpi'] = 120\n",
    "\n",
    "from dustmaps.sfd import SFDQuery\n",
    "\n",
    "from gaia_tools import healpix_hist, bin_column\n",
    "from numpy import pi\n",
    "from pyspark.sql import SparkSession\n"
   ]
  },
  {
   "cell_type": "code",
   "execution_count": 2,
   "metadata": {},
   "outputs": [],
   "source": [
    "#spark = SparkSession.builder.config('spark.master', \"local[4]\") \\\n",
    "#                            .config('spark.memory.offHeap.enabled', 'true') \\\n",
    "#                            .config('spark.memory.offHeap.size', '6G') \\\n",
    "#                            .config('spark.driver.memory', '8G') \\\n",
    "#                            .config(\"spark.sql.execution.arrow.enabled\", \"true\").getOrCreate()"
   ]
  },
  {
   "cell_type": "code",
   "execution_count": 3,
   "metadata": {},
   "outputs": [],
   "source": [
    "def spark_start(project_path, metastore=None):\n",
    "    from pyspark.sql import SparkSession\n",
    "\n",
    "    warehouse_location = os.path.join(project_path, 'spark-warehouse')\n",
    "\n",
    "    local_dir = os.path.join(project_path, 'spark-tmp')\n",
    "\n",
    "    spark = ( \n",
    "            SparkSession.builder\n",
    "            .appName(\"LSD2\")\n",
    "            .config(\"spark.sql.warehouse.dir\", warehouse_location)\n",
    "            .config('spark.master', \"local[4]\")\n",
    "            .config('spark.driver.memory', '6G') # 128\n",
    "            .config('spark.local.dir', local_dir)\n",
    "            .config('spark.memory.offHeap.enabled', 'true')\n",
    "            .config('spark.memory.offHeap.size', '4G') # 256\n",
    "            .config(\"spark.sql.execution.arrow.enabled\", \"true\")\n",
    "            .config(\"spark.driver.maxResultSize\", \"6G\")\n",
    "            .config(\"spark.driver.extraJavaOptions\", f\"-Dderby.system.home={metastore}\")\n",
    "            .enableHiveSupport()\n",
    "            .getOrCreate()\n",
    "                    )   \n",
    "\n",
    "    return spark"
   ]
  },
  {
   "cell_type": "code",
   "execution_count": 4,
   "metadata": {},
   "outputs": [],
   "source": [
    "root_dir = \"/epyc/users/ctslater\"\n",
    "\n",
    "spark = spark_start(root_dir)"
   ]
  },
  {
   "cell_type": "code",
   "execution_count": 5,
   "metadata": {},
   "outputs": [],
   "source": [
    "gaia_ = spark.read.load(\"/epyc/data/gaia_dr2_1am_dup/\")\n",
    "gaia = gaia_.drop(\"hpix12\").withColumn(\"hpix12\",\n",
    "                        sparkfunc.floor(gaia_['source_id']/34359738368))"
   ]
  },
  {
   "cell_type": "code",
   "execution_count": 6,
   "metadata": {},
   "outputs": [
    {
     "name": "stdout",
     "output_type": "stream",
     "text": [
      "CPU times: user 8.53 s, sys: 6.13 s, total: 14.7 s\n",
      "Wall time: 11.8 s\n"
     ]
    }
   ],
   "source": [
    "%%time\n",
    "\n",
    "sfd_order = 9\n",
    "sfd = SFDQuery()\n",
    "npix = hp.nside2npix(hp.order2nside(sfd_order))\n",
    "\n",
    "angle_theta, angle_phi = hp.pix2ang(hp.order2nside(sfd_order), np.arange(npix), nest=True)\n",
    "\n",
    "reddening = sfd.query_equ(np.rad2deg(angle_phi), 90.0 - np.rad2deg(angle_theta))\n",
    "\n",
    "EBV_map_hpix12 = hp.ud_grade(reddening, hp.order2nside(12), order_in='NEST')\n",
    "pandas_df = pd.DataFrame({\"hpix12\": np.arange(len(EBV_map_hpix12)),\n",
    "                                             \"EBV\": EBV_map_hpix12})\n",
    "\n",
    "reddening_df = spark.createDataFrame(pandas_df)\n",
    "gaia_w_EBV = gaia.join(reddening_df, on=\"hpix12\")\n",
    "\n",
    "gaia_g0 = gaia_w_EBV.withColumn(\"phot_g0\", gaia_w_EBV['phot_g_mean_mag'] - 3.1*gaia_w_EBV['EBV']).\\\n",
    "                      withColumn(\"bp_rp_0\", gaia_w_EBV['bp_rp'] - 1.2919*gaia_w_EBV['EBV'])"
   ]
  },
  {
   "cell_type": "code",
   "execution_count": null,
   "metadata": {},
   "outputs": [],
   "source": [
    "%%time\n",
    "dereddened_density2 = healpix_hist(gaia_g0. \\\n",
    "                                  where((gaia_g0['dup'] == 0) &\n",
    "                                        (gaia_g0['bp_rp_0'] > 0.5) & (gaia_g0['bp_rp_0'] < 0.75) &\n",
    "                                        (gaia_g0['phot_g0'] > 19) & (gaia_g0['phot_g0'] <= 20.5) &\n",
    "                                        (gaia_g0['parallax'] < 0.2)),\n",
    "                                   NSIDE=512, agg={\"hpix__\": \"count\"})"
   ]
  },
  {
   "cell_type": "code",
   "execution_count": 8,
   "metadata": {},
   "outputs": [],
   "source": [
    "def spark_mu_l(alpha, delta, mu_ra, mu_dec):\n",
    "    from pyspark.sql.functions import sin, cos, sqrt\n",
    "    alpha_g =  192.85948 * pi/180.0\n",
    "    delta_g = 27.12825 * pi/180.0\n",
    "    C1 = np.sin(delta_g) * cos(delta) - np.cos(delta_g) * sin(delta) * cos(alpha - alpha_g)\n",
    "    C2 = np.cos(delta_g)* sin(alpha - alpha_g)\n",
    "    cosb = sqrt(C1**2 + C2**2)    \n",
    "    return (mu_ra * C1 + mu_dec * C2)/cosb\n",
    "\n",
    "def spark_mu_b(alpha, delta, mu_ra, mu_dec):\n",
    "    from pyspark.sql.functions import sin, cos, sqrt\n",
    "    alpha_g =  192.85948 * pi/180.0\n",
    "    delta_g = 27.12825 * pi/180.0\n",
    "    C1 = np.sin(delta_g) * cos(delta) - np.cos(delta_g) * sin(delta) * cos(alpha - alpha_g)\n",
    "    C2 = np.cos(delta_g)* sin(alpha - alpha_g)\n",
    "    cosb = sqrt(C1**2 + C2**2)\n",
    "    return (mu_ra * -C2 + mu_dec * C1)/cosb"
   ]
  },
  {
   "cell_type": "code",
   "execution_count": null,
   "metadata": {},
   "outputs": [],
   "source": [
    "%%time\n",
    "\n",
    "def star_cuts(df):\n",
    "    return ((df['dup'] == 0) &\n",
    "            (df['bp_rp_0'] > 0.5) & (df['bp_rp_0'] < 0.75) &\n",
    "            (df['phot_g0'] > 19) &  (df['phot_g0'] <= 20.5) &\n",
    "            (df['parallax'] < 0.2))\n",
    "\n",
    "def add_mu_b(df):\n",
    "    return df.withColumn(\"mu_b\", spark_mu_b(df['ra']*pi/180.0, df['dec']*pi/180.0,\n",
    "                                            df['pmra'], df['pmdec']))\n",
    "\n",
    "gaia_g0_mu_b = add_mu_b(gaia_g0.where(star_cuts(gaia_g0)))\n",
    "            \n",
    "map_negative_b = healpix_hist(gaia_g0_mu_b.select(\"hpix12\", \"mu_b\").where(gaia_g0_mu_b['mu_b'] < 0),\n",
    "                              NSIDE=512, agg={\"hpix__\": \"count\"})\n",
    "\n",
    "#map_pos_b = healpix_hist(gaia_g0_mulb.where(star_cuts(gaia_g0_mulb) & (gaia_g0_mulb['mu_b'] >= 0)),\n",
    "#                              NSIDE=512, agg={\"hpix__\": \"count\"})"
   ]
  },
  {
   "cell_type": "code",
   "execution_count": null,
   "metadata": {},
   "outputs": [],
   "source": []
  }
 ],
 "metadata": {
  "kernelspec": {
   "display_name": "Python 3-SMJ Spark",
   "language": "python",
   "name": "spark-smj"
  },
  "language_info": {
   "codemirror_mode": {
    "name": "ipython",
    "version": 3
   },
   "file_extension": ".py",
   "mimetype": "text/x-python",
   "name": "python",
   "nbconvert_exporter": "python",
   "pygments_lexer": "ipython3",
   "version": "3.6.4"
  }
 },
 "nbformat": 4,
 "nbformat_minor": 2
}
