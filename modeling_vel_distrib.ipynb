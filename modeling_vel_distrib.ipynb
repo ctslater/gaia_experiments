{
 "cells": [
  {
   "cell_type": "code",
   "execution_count": 1,
   "metadata": {},
   "outputs": [],
   "source": [
    "%matplotlib inline\n",
    "import sys\n",
    "sys.path.insert(0, '/astro/users/ctslater/.local/lib/python3.6/site-packages')\n",
    "\n",
    "import numpy as np\n",
    "import matplotlib\n",
    "import matplotlib.pyplot as plt\n",
    "import astropy.coordinates\n",
    "import astropy.units as u\n",
    "\n",
    "#plt.style.use((\"paper_plots.mplstyle\"))\n",
    "\n",
    "matplotlib.rcParams['figure.dpi'] = 80\n",
    "\n",
    "from astropy.coordinates import Galactocentric, Galactic, ICRS\n",
    "\n",
    "import healpy as hp\n",
    "\n",
    "cmap = matplotlib.cm.coolwarm.set_under('w')\n"
   ]
  },
  {
   "cell_type": "code",
   "execution_count": 40,
   "metadata": {},
   "outputs": [],
   "source": [
    "#ra, dec = hp.pix2ang(hp.order2nside(7), np.arange(hp.nside2npix(hp.order2nside(7))),\n",
    "#                                    lonlat=True, nest=True)\n",
    "ra, dec = 20, 30\n",
    "\n",
    "ncoords = 1000\n",
    "\n",
    "equatorial_coords = astropy.coordinates.SkyCoord(ra*u.deg, dec*u.deg, 10*u.kpc, frame='icrs')\n",
    "coords = equatorial_coords #equatorial_coords.galactic\n",
    "\n",
    "velocities = np.random.multivariate_normal([0, 0, 0], np.diag([80, 80, 80]), ncoords)\n",
    "\n",
    "gc_coord = Galactocentric(x=coords.galactocentric.x + np.zeros(velocities.shape[0]),\n",
    "                          y=coords.galactocentric.y + np.zeros(velocities.shape[0]),\n",
    "                          z=coords.galactocentric.z + np.zeros(velocities.shape[0]),\n",
    "                          v_x = velocities[:,0] * u.km/u.s,\n",
    "                          v_y = velocities[:,1] * u.km/u.s,\n",
    "                          v_z = velocities[:,2] * u.km/u.s,\n",
    "                          # galcen_v_sun=coord.CartesianDifferential([0,220,0]*u.km/u.s)\n",
    "                          )\n",
    "#print(gc_coord[0])\n",
    "galactic_coords_w_pm = gc_coord.transform_to(Galactic)"
   ]
  },
  {
   "cell_type": "code",
   "execution_count": 41,
   "metadata": {},
   "outputs": [
    {
     "data": {
      "image/png": "[encoded data removed]",
      "text/plain": [
       "<Figure size 880x440 with 3 Axes>"
      ]
     },
     "metadata": {},
     "output_type": "display_data"
    }
   ],
   "source": [
    "plt.figure(dpi=110, figsize=(8,4))\n",
    "\n",
    "#def plot_common():\n",
    "    \n",
    "plt.subplot(1, 3, 1)\n",
    "plt.hist(galactic_coords_w_pm.pm_b.to_value())\n",
    "plt.xlabel(r\"$\\mu_b$\")\n",
    "\n",
    "plt.subplot(1, 3, 2)\n",
    "plt.hist(galactic_coords_w_pm.pm_l_cosb.to_value())\n",
    "plt.xlabel(r\"$\\mu_l cos(b)$\")\n",
    "\n",
    "plt.subplot(1, 3, 3)\n",
    "plt.hist(galactic_coords_w_pm.radial_velocity.to_value())\n",
    "plt.xlabel(r\"$v_r$\")\n",
    "\n",
    "plt.subplots_adjust(wspace=0.4)"
   ]
  },
  {
   "cell_type": "code",
   "execution_count": 4,
   "metadata": {},
   "outputs": [
    {
     "data": {
      "text/plain": [
       "Text(0,0.5,'$\\\\mu_l cos(b)$')"
      ]
     },
     "execution_count": 4,
     "metadata": {},
     "output_type": "execute_result"
    },
    {
     "data": {
      "image/png": "[encoded data removed]",
      "text/plain": [
       "<Figure size 600x400 with 1 Axes>"
      ]
     },
     "metadata": {},
     "output_type": "display_data"
    }
   ],
   "source": [
    "\n",
    "plt.figure(dpi=100)\n",
    "\n",
    "ranges = ((-3, 3), (-10, 10))\n",
    "extent = sum(ranges, ())\n",
    "H, _, _ = np.histogram2d(galactic_coords_w_pm.pm_b.to_value(),\n",
    "                         galactic_coords_w_pm.pm_l_cosb.to_value(),\n",
    "                         bins=(30, 30),\n",
    "                         range=ranges)\n",
    "\n",
    "plt.imshow(H.T, cmap='gray_r', origin='lower', extent=extent, aspect='auto')\n",
    "plt.xlabel(r\"$\\mu_b$\")\n",
    "plt.ylabel(r\"$\\mu_l cos(b)$\")\n"
   ]
  },
  {
   "cell_type": "code",
   "execution_count": 44,
   "metadata": {},
   "outputs": [],
   "source": [
    "def make_xyz_to_pm_matrix(coord):\n",
    "\n",
    "    raw_rows = []\n",
    "    for vx, vy, vz in [(1,0,0), (0,1,0), (0,0,1), (0, 0, 0)]:\n",
    "        gc_coord = Galactocentric(x=coord.galactocentric.x,\n",
    "                                  y=coord.galactocentric.y,\n",
    "                                  z=coord.galactocentric.z,\n",
    "                                  v_x = vx * u.km/u.s,\n",
    "                                  v_y = vy * u.km/u.s,\n",
    "                                  v_z = vz * u.km/u.s,\n",
    "                                  # galcen_v_sun=coord.CartesianDifferential([0,220,0]*u.km/u.s)\n",
    "                                  )\n",
    "        \n",
    "        galactic_coords_w_pm = gc_coord.transform_to(Galactic)\n",
    "        raw_rows.append(np.array([galactic_coords_w_pm.pm_b.to_value(),\n",
    "                                  galactic_coords_w_pm.pm_l_cosb.to_value(),\n",
    "                                  galactic_coords_w_pm.radial_velocity.to_value()]))\n",
    "\n",
    "\n",
    "    center = raw_rows[-1]\n",
    "    matrix_rows = [row - center for row in raw_rows[:-1]]\n",
    "    return np.matrix(matrix_rows), center\n"
   ]
  },
  {
   "cell_type": "code",
   "execution_count": 45,
   "metadata": {},
   "outputs": [
    {
     "data": {
      "text/plain": [
       "matrix([[-7.26024968e-03, -1.60973685e-02, -5.47027551e-01],\n",
       "        [ 8.64080724e-03, -1.36333788e-02,  6.43839769e-01],\n",
       "        [ 1.78219598e-02,  5.23221446e-05, -5.35005804e-01]])"
      ]
     },
     "execution_count": 45,
     "metadata": {},
     "output_type": "execute_result"
    }
   ],
   "source": [
    "#coord = astropy.coordinates.SkyCoord(180*u.deg, 0*u.deg, 10*u.kpc, frame='galactic')\n",
    "ra, dec = 20, 30\n",
    "coord = astropy.coordinates.SkyCoord(ra*u.deg, dec*u.deg, 10*u.kpc, frame='icrs')\n",
    "m, center = make_xyz_to_pm_matrix(coord)\n",
    "m"
   ]
  },
  {
   "cell_type": "code",
   "execution_count": 48,
   "metadata": {},
   "outputs": [],
   "source": [
    "n_samples = 300\n",
    "velocities = np.random.multivariate_normal([0, 0, 0], np.diag([80, 80, 80]), n_samples)\n",
    "converted_vels = np.matmul(np.matrix(velocities), m) + center"
   ]
  },
  {
   "cell_type": "code",
   "execution_count": 50,
   "metadata": {},
   "outputs": [
    {
     "data": {
      "image/png": "[encoded data removed]",
      "text/plain": [
       "<Figure size 880x440 with 3 Axes>"
      ]
     },
     "metadata": {},
     "output_type": "display_data"
    }
   ],
   "source": [
    "plt.figure(dpi=110, figsize=(8,4))\n",
    "\n",
    "plt.subplot(1, 3, 1)\n",
    "plt.hist(converted_vels[:,0])\n",
    "plt.xlabel(r\"$\\mu_b$\")\n",
    "\n",
    "plt.subplot(1, 3, 2)\n",
    "plt.hist(converted_vels[:,1])\n",
    "plt.xlabel(r\"$\\mu_l cos(b)$\")\n",
    "\n",
    "plt.subplot(1, 3, 3)\n",
    "plt.hist(converted_vels[:,2])\n",
    "plt.xlabel(r\"$v_r$\")\n",
    "\n",
    "plt.subplots_adjust(wspace=0.4)"
   ]
  },
  {
   "cell_type": "code",
   "execution_count": null,
   "metadata": {},
   "outputs": [],
   "source": []
  }
 ],
 "metadata": {
  "kernelspec": {
   "display_name": "Python 3-SMJ Spark",
   "language": "python",
   "name": "spark-smj"
  },
  "language_info": {
   "codemirror_mode": {
    "name": "ipython",
    "version": 3
   },
   "file_extension": ".py",
   "mimetype": "text/x-python",
   "name": "python",
   "nbconvert_exporter": "python",
   "pygments_lexer": "ipython3",
   "version": "3.6.4"
  }
 },
 "nbformat": 4,
 "nbformat_minor": 2
}
